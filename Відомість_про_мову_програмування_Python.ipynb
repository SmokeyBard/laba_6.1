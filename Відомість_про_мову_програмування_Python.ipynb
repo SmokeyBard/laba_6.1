{
  "nbformat": 4,
  "nbformat_minor": 0,
  "metadata": {
    "colab": {
      "provenance": []
    },
    "kernelspec": {
      "name": "python3",
      "display_name": "Python 3"
    },
    "language_info": {
      "name": "python"
    }
  },
  "cells": [
    {
      "cell_type": "markdown",
      "source": [
        "# **Python**"
      ],
      "metadata": {
        "id": "qjSL-oipDX-U"
      }
    },
    {
      "cell_type": "markdown",
      "source": [
        "![image.png]"
      ],
      "metadata": {
        "id": "KWSjbgPEGqps"
      }
    },
    {
      "cell_type": "markdown",
      "source": [
        "### **Огляд:**"
      ],
      "metadata": {
        "id": "GPZkdlulC1j6"
      }
    },
    {
      "cell_type": "markdown",
      "source": [
        "*Python* - інтерпретована, високорівнева мова програмування, яка підтримує об'єктно-орієнтоване, імперативне та функціональне програмування. Відзначається чистим та зрозумілим синтаксисом, що полегшує розробку та зрозуміння коду.\n",
        "\n"
      ],
      "metadata": {
        "id": "s-8D9RdaC5kw"
      }
    },
    {
      "cell_type": "markdown",
      "source": [
        "### **Основні функції:**"
      ],
      "metadata": {
        "id": "Ym-XpLmfC8s-"
      }
    },
    {
      "cell_type": "markdown",
      "source": [
        "***1. Простота вивчення:*** Python - чудовий вибір для початківців. Його читабельний синтаксис подібний до англійської мови.\n",
        "\n",
        "***2. Розширені бібліотеки:*** Мова поставляється з розгалуженим набором стандартних бібліотек, які включають модулі для обробки рядків, мережевого програмування, роботи з базами даних та багато іншого.\n",
        "\n",
        "***3. Платформонезалежність:*** Python підтримується на багатьох платформах, включаючи Windows, macOS та різні дистрибутиви Linux.\n",
        "\n",
        "***4. Обробка винятків:*** Python має механізм обробки винятків для контролю над помилками під час виконання програми.\n",
        "\n",
        "***5. Об'єктно-орієнтоване програмування:*** Python підтримує об'єктно-орієнтований стиль програмування, де дані та функції об'єднані в класи.\n",
        "\n",
        "***6. Динамічна типізація:*** Python використовує динамічну типізацію, що дозволяє змінювати типи змінних під час виконання програми."
      ],
      "metadata": {
        "id": "D2ZHThRVDrNg"
      }
    },
    {
      "cell_type": "markdown",
      "source": [
        "### **Переваги:**"
      ],
      "metadata": {
        "id": "DPwKVBfMD0qM"
      }
    },
    {
      "cell_type": "markdown",
      "source": [
        "***Легкість вивчення та використання:*** Читабельний синтаксис спрощує розробку\n",
        "та зрозуміння коду.\n",
        "\n",
        "\n",
        "---\n",
        "\n",
        "\n",
        "***Велика спільнота та підтримка:*** Python має активну громадську підтримку та багато розширень та бібліотек для різних завдань.\n",
        "\n",
        "\n",
        "---\n",
        "\n",
        "\n",
        "***Широке використання:*** Використовується в різних галузях, включаючи веб-розробку, наукове обчислення, штучний інтелект та багато іншого.\n",
        "\n",
        "\n",
        "---\n",
        "\n",
        
      ],
      "metadata": {
        "id": "STuqGrjNEtUK"
      }
    },
    {
      "cell_type": "markdown",
      "source": [
        "## **Приклади коду, які демонструють основні функції Python:**\n",
        "# ![Hillel-Blog-Illustration-PythonPlusMinus-1.webp])"
      ],
      "metadata": {
        "id": "LlEH7ns4EtdY"
      }
    },
    {
      "cell_type": "markdown",
      "source": [
        "***Виведення тексту на екран:***"
      ],
      "metadata": {
        "id": "Wcy59LSXGM7k"
      }
    },
    {
      "cell_type": "code",
      "source": [
        "print(\"Привіт, світ!\")"
      ],
      "metadata": {
        "colab": {
          "base_uri": "https://localhost:8080/"
        },
        "id": "Brx3Yez4F6yd",
        "outputId": "5a7d17d7-14a7-447f-f65c-747220209c11"
      },
      "execution_count": null,
      "outputs": [
        {
          "output_type": "stream",
          "name": "stdout",
          "text": [
            "Привіт, світ!\n"
          ]
        }
      ]
    },
    {
      "cell_type": "markdown",
      "source": [
        "***Змінні та операції:***"
      ],
      "metadata": {
        "id": "RJteJuy9KDii"
      }
    },
    {
      "cell_type": "code",
      "source": [
        "a = 5\n",
        "b = 3\n",
        "c = a + b\n",
        "\n",
        "print(f\"Сума {a} і {b} дорівнює {c}\")\n"
      ],
      "metadata": {
        "colab": {
          "base_uri": "https://localhost:8080/"
        },
        "id": "nkKZQuSTKDq-",
        "outputId": "fb2e3f8d-18ba-4bd4-e0cf-046d6569fa84"
      },
      "execution_count": null,
      "outputs": [
        {
          "output_type": "stream",
          "name": "stdout",
          "text": [
            "Сума 5 і 3 дорівнює 8\n"
          ]
        }
      ]
    },
    {
      "cell_type": "markdown",
      "source": [
        "***Умовні оператори:***"
      ],
      "metadata": {
        "id": "ZcIGmKBKKEEp"
      }
    },
    {
      "cell_type": "code",
      "source": [
        "name = input(\"Введіть своє ім'я: \")\n",
        "age = input(\"Скільки вам років? \")\n",
        "age = int(age)\n",
        "\n",
        "if age >= 18:\n",
        "    print(f\"{name}, ви повнолітні\")\n",
        "else:\n",
        "    print(f\"{name}, ви неповнолітні\")"
      ],
      "metadata": {
        "colab": {
          "base_uri": "https://localhost:8080/"
        },
        "id": "878vGznwKEJ5",
        "outputId": "338fc8f7-c9c1-4db1-b02b-995bfac18380"
      },
      "execution_count": null,
      "outputs": [
        {
          "output_type": "stream",
          "name": "stdout",
          "text": [
            "Введіть своє ім'я: Артем\n",
            "Скільки вам років? 17\n",
            "Артем, ви неповнолітні\n"
          ]
        }
      ]
    },
    {
      "cell_type": "markdown",
      "source": [
        "***Цикли:***"
      ],
      "metadata": {
        "id": "SOdWb-ZxKEQM"
      }
    },
    {
      "cell_type": "code",
      "source": [
        "for i in range(5):\n",
        "    print(f\"Це операція номер {i}\")"
      ],
      "metadata": {
        "colab": {
          "base_uri": "https://localhost:8080/"
        },
        "id": "tmZ8kWXUKEUv",
        "outputId": "599dbed6-d6a5-482d-e6d2-b101f6266f06"
      },
      "execution_count": null,
      "outputs": [
        {
          "output_type": "stream",
          "name": "stdout",
          "text": [
            "Це операція номер 0\n",
            "Це операція номер 1\n",
            "Це операція номер 2\n",
            "Це операція номер 3\n",
            "Це операція номер 4\n"
          ]
        }
      ]
    },
    {
      "cell_type": "markdown",
      "source": [
        "***Функції:***"
      ],
      "metadata": {
        "id": "TMjy7lWjKEcR"
      }
    },
    {
      "cell_type": "code",
      "source": [
        "def welcome(name):\n",
        "    print(f\"Hello, {name}!\")\n",
        "\n",
        "welcome(name)"
      ],
      "metadata": {
        "colab": {
          "base_uri": "https://localhost:8080/"
        },
        "id": "M9W828bnKEgp",
        "outputId": "b85fc04c-7636-4179-c9a2-961b6b9d61d7"
      },
      "execution_count": null,
      "outputs": [
        {
          "output_type": "stream",
          "name": "stdout",
          "text": [
            "Hello, Артем!\n"
          ]
        }
      ]
    },
    {
      "cell_type": "markdown",
      "source": [
        "Ці прості приклади чудово демонструють основні функції Python"
      ],
      "metadata": {
        "id": "UCfKlYV2L9Vy"
      }
    },
    {
      "cell_type": "markdown",
      "source": [
        "## **Цікаві факти про Python**"
      ],
      "metadata": {
        "id": "caOuZR8gNxnX"
      }
    },
    {
      "cell_type": "markdown",
      "source": [
        "Python була розроблена *Гвідо ван Россумом* і вперше випущена в *1991* році. Її ім'я походить від популярного телешоу \"*Монті Пайтоновський літун*\", а не від змії.\n",
        "\n",
        "\n",
        "---\n",
        "\n",
        "***Молода-стара мова Python.***\n",
        "Мову програмування *Python* вважають молодою. Насправді, розробка *Python* розпочалася в кінці *1980-*х років, а перша повноцінна версія з’явилася у *1991* році. Так що своє повноліття мова *Python* вже відзначила.\n",
        "\n",
        "\n",
        "---\n",
        "\n",
        "\n",
        "Python працює майже на всіх відомих операційних системах, включаючи: Linux/UNIX, Window, Macintosh, Solaris, macOS, iPhone OS, Palm OS, Windows Mobile, Symbian та Android…. Дозволяє в режимі реального часу взаємодіяти з інтерпретатором, не вимагає компіляцій для виконання коду.\n",
        "\n",
        "\n",
        "---\n",
        "\n",
        "\n",
        "**\"*Батарейка» всередині*\".**\n",
        "Легкий початок роботи з мовою та можливість реалізації проектів усіх рівнів складності забезпечує \"*батарейка*\". На сленгу розробників *Python* – це велика бібліотека. У ній присутні всі дані про асинхронну обробку запитів, взаємодію з ZIP-архівами і т.д."
      ],
      "metadata": {
        "id": "H692feNZOCSD"
      }
    },
    {
      "cell_type": "markdown",
      "source": [
        "## ***Python - це потужна та універсальна мова програмування, яка відкриває багато можливостей для програмістів усіх рівнів!***\n",
        
      ],
      "metadata": {
        "id": "_QseOiCFSaTt"
      }
    }
  ]
}